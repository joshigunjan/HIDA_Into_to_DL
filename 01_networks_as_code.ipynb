{
  "cells": [
    {
      "cell_type": "markdown",
      "metadata": {
        "id": "view-in-github",
        "colab_type": "text"
      },
      "source": [
        "<a href=\"https://colab.research.google.com/github/maleehahassan/HIDA_Into_to_DL/blob/main/01_networks_as_code.ipynb\" target=\"_parent\"><img src=\"https://colab.research.google.com/assets/colab-badge.svg\" alt=\"Open In Colab\"/></a>"
      ]
    },
    {
      "cell_type": "markdown",
      "source": [
        "# Overview: Penguin Species Classification with Neural Networks\n",
        "\n",
        "This notebook demonstrates how to build a neural network to classify penguin species using the Palmer Penguins dataset. The workflow includes:\n",
        "\n",
        "- **Data Loading & Exploration**: The dataset is loaded and visualized to understand relationships between features and species.\n",
        "- **Preprocessing**: Irrelevant columns are dropped, missing values are removed, and the target variable ('species') is one-hot encoded for classification.\n",
        "- **Data Splitting**: The data is split into training and test sets, stratified by species to maintain class balance.\n",
        "- **Model Building**: A simple feedforward neural network is constructed using TensorFlow/Keras, with one hidden layer and a softmax output for multiclass classification.\n",
        "- **Training**: The model is trained for 100 epochs, and training loss is visualized to monitor learning progress.\n",
        "- **Prediction & Evaluation**: Predictions are made on the test set, and the model's performance is evaluated using a confusion matrix and heatmap to show classification accuracy for each species.\n",
        "\n",
        "This notebook guides learners through the process of preparing data, building and training a neural network for multiclass classification, and evaluating results using visual tools."
      ],
      "metadata": {
        "id": "DA4UVYsZbElO"
      },
      "id": "DA4UVYsZbElO"
    },
    {
      "cell_type": "code",
      "execution_count": null,
      "id": "58ce8193",
      "metadata": {
        "id": "58ce8193"
      },
      "outputs": [],
      "source": [
        "# Import seaborn for data visualization\n",
        "import seaborn as sns"
      ]
    },
    {
      "cell_type": "code",
      "execution_count": null,
      "id": "28fb0cdc",
      "metadata": {
        "id": "28fb0cdc"
      },
      "outputs": [],
      "source": [
        "# Load the penguins dataset from seaborn\n",
        "penguins = sns.load_dataset('penguins')"
      ]
    },
    {
      "cell_type": "code",
      "execution_count": 1,
      "id": "ba319245",
      "metadata": {
        "id": "ba319245",
        "outputId": "31d3867b-7b1f-44d2-859c-3a3f9cd7969a",
        "collapsed": true,
        "colab": {
          "base_uri": "https://localhost:8080/",
          "height": 158
        }
      },
      "outputs": [
        {
          "output_type": "error",
          "ename": "NameError",
          "evalue": "name 'sns' is not defined",
          "traceback": [
            "\u001b[0;31m---------------------------------------------------------------------------\u001b[0m",
            "\u001b[0;31mNameError\u001b[0m                                 Traceback (most recent call last)",
            "\u001b[0;32m/tmp/ipython-input-3217402586.py\u001b[0m in \u001b[0;36m<cell line: 0>\u001b[0;34m()\u001b[0m\n\u001b[1;32m      1\u001b[0m \u001b[0;31m# Visualize pairwise relationships in the dataset, colored by species\u001b[0m\u001b[0;34m\u001b[0m\u001b[0;34m\u001b[0m\u001b[0m\n\u001b[0;32m----> 2\u001b[0;31m \u001b[0msns\u001b[0m\u001b[0;34m.\u001b[0m\u001b[0mpairplot\u001b[0m\u001b[0;34m(\u001b[0m\u001b[0mpenguins\u001b[0m\u001b[0;34m,\u001b[0m \u001b[0mhue\u001b[0m\u001b[0;34m=\u001b[0m\u001b[0;34m\"species\"\u001b[0m\u001b[0;34m)\u001b[0m\u001b[0;34m\u001b[0m\u001b[0;34m\u001b[0m\u001b[0m\n\u001b[0m",
            "\u001b[0;31mNameError\u001b[0m: name 'sns' is not defined"
          ]
        }
      ],
      "source": [
        "# Visualize pairwise relationships in the dataset, colored by species\n",
        "sns.pairplot(penguins, hue=\"species\")"
      ]
    },
    {
      "cell_type": "code",
      "execution_count": null,
      "id": "21f444fc",
      "metadata": {
        "id": "21f444fc"
      },
      "outputs": [],
      "source": [
        "# Convert the 'species' column to a categorical data type\n",
        "penguins['species'] = penguins['species'].astype('category')"
      ]
    },
    {
      "cell_type": "code",
      "execution_count": null,
      "id": "f249b0dc",
      "metadata": {
        "id": "f249b0dc"
      },
      "outputs": [],
      "source": [
        "# Drop two columns and the rows that have NaN values in them\n",
        "# Drop the 'island' and 'sex' columns, then remove rows with missing values\n",
        "penguins_filtered = penguins.drop(columns=['island', 'sex']).dropna()\n",
        "\n",
        "# Extract columns corresponding to features\n",
        "# Extract feature columns (all except 'species') for model input\n",
        "penguins_features = penguins_filtered.drop(columns=['species'])\n"
      ]
    },
    {
      "cell_type": "code",
      "execution_count": null,
      "id": "1d1fecc8",
      "metadata": {
        "id": "1d1fecc8",
        "outputId": "9d7e6793-04d8-4918-c85b-54e5365f53ee"
      },
      "outputs": [
        {
          "data": {
            "text/html": [
              "<div>\n",
              "<style scoped>\n",
              "    .dataframe tbody tr th:only-of-type {\n",
              "        vertical-align: middle;\n",
              "    }\n",
              "\n",
              "    .dataframe tbody tr th {\n",
              "        vertical-align: top;\n",
              "    }\n",
              "\n",
              "    .dataframe thead th {\n",
              "        text-align: right;\n",
              "    }\n",
              "</style>\n",
              "<table border=\"1\" class=\"dataframe\">\n",
              "  <thead>\n",
              "    <tr style=\"text-align: right;\">\n",
              "      <th></th>\n",
              "      <th>Adelie</th>\n",
              "      <th>Chinstrap</th>\n",
              "      <th>Gentoo</th>\n",
              "    </tr>\n",
              "  </thead>\n",
              "  <tbody>\n",
              "    <tr>\n",
              "      <th>0</th>\n",
              "      <td>1</td>\n",
              "      <td>0</td>\n",
              "      <td>0</td>\n",
              "    </tr>\n",
              "    <tr>\n",
              "      <th>1</th>\n",
              "      <td>1</td>\n",
              "      <td>0</td>\n",
              "      <td>0</td>\n",
              "    </tr>\n",
              "    <tr>\n",
              "      <th>2</th>\n",
              "      <td>1</td>\n",
              "      <td>0</td>\n",
              "      <td>0</td>\n",
              "    </tr>\n",
              "    <tr>\n",
              "      <th>4</th>\n",
              "      <td>1</td>\n",
              "      <td>0</td>\n",
              "      <td>0</td>\n",
              "    </tr>\n",
              "    <tr>\n",
              "      <th>5</th>\n",
              "      <td>1</td>\n",
              "      <td>0</td>\n",
              "      <td>0</td>\n",
              "    </tr>\n",
              "  </tbody>\n",
              "</table>\n",
              "</div>"
            ],
            "text/plain": [
              "   Adelie  Chinstrap  Gentoo\n",
              "0       1          0       0\n",
              "1       1          0       0\n",
              "2       1          0       0\n",
              "4       1          0       0\n",
              "5       1          0       0"
            ]
          },
          "execution_count": 6,
          "metadata": {},
          "output_type": "execute_result"
        }
      ],
      "source": [
        "# Import pandas for data manipulation\n",
        "import pandas as pd\n",
        "\n",
        "# Convert the target variable 'species' to one-hot encoded format\n",
        "target = pd.get_dummies(penguins_filtered['species'])\n",
        "\n",
        "# Display the first 5 rows of the one-hot encoded target\n",
        "target.head() # print out the top 5 to see what it looks like."
      ]
    },
    {
      "cell_type": "code",
      "execution_count": null,
      "id": "75f927f1",
      "metadata": {
        "id": "75f927f1"
      },
      "outputs": [],
      "source": [
        "# Import train_test_split to split data into training and test sets\n",
        "from sklearn.model_selection import train_test_split\n",
        "\n",
        "# Split features and target into training and test sets, stratified by species\n",
        "X_train, X_test, y_train, y_test = train_test_split(penguins_features, target,test_size=0.2, random_state=0, shuffle=True, stratify=target)\n"
      ]
    },
    {
      "cell_type": "code",
      "execution_count": null,
      "id": "06591e39",
      "metadata": {
        "id": "06591e39",
        "outputId": "cf88d766-c045-4f35-a7ba-39067db27c4e"
      },
      "outputs": [
        {
          "name": "stdout",
          "output_type": "stream",
          "text": [
            "Adelie  Chinstrap  Gentoo\n",
            "1       0          0         151\n",
            "0       0          1         123\n",
            "        1          0          68\n",
            "dtype: int64\n"
          ]
        }
      ],
      "source": [
        "# Print the count of each species in the full target set\n",
        "print(target.value_counts())"
      ]
    },
    {
      "cell_type": "code",
      "execution_count": null,
      "id": "1cc33a6d",
      "metadata": {
        "collapsed": true,
        "id": "1cc33a6d",
        "outputId": "ac021591-3131-4408-8729-f8d33bfa9492"
      },
      "outputs": [
        {
          "name": "stdout",
          "output_type": "stream",
          "text": [
            "Adelie  Chinstrap  Gentoo\n",
            "1       0          0         121\n",
            "0       0          1          98\n",
            "        1          0          54\n",
            "dtype: int64\n"
          ]
        }
      ],
      "source": [
        "# Print the count of each species in the training set\n",
        "print(y_train.value_counts())"
      ]
    },
    {
      "cell_type": "code",
      "execution_count": null,
      "id": "8f9d026d",
      "metadata": {
        "collapsed": true,
        "id": "8f9d026d",
        "outputId": "ca334507-9415-46e9-dcfe-930c5c70debf"
      },
      "outputs": [
        {
          "name": "stdout",
          "output_type": "stream",
          "text": [
            "Adelie  Chinstrap  Gentoo\n",
            "1       0          0         30\n",
            "0       0          1         25\n",
            "        1          0         14\n",
            "dtype: int64\n"
          ]
        }
      ],
      "source": [
        "# Print the count of each species in the test set\n",
        "print(y_test.value_counts())"
      ]
    },
    {
      "cell_type": "code",
      "execution_count": null,
      "id": "d2583aeb",
      "metadata": {
        "id": "d2583aeb",
        "outputId": "af9c67ce-9e0f-42ff-fea4-8800fee6567b"
      },
      "outputs": [
        {
          "name": "stderr",
          "output_type": "stream",
          "text": [
            "2022-03-24 14:53:34.901173: W tensorflow/stream_executor/platform/default/dso_loader.cc:64] Could not load dynamic library 'libcudart.so.11.0'; dlerror: libcudart.so.11.0: cannot open shared object file: No such file or directory\n",
            "2022-03-24 14:53:34.901196: I tensorflow/stream_executor/cuda/cudart_stub.cc:29] Ignore above cudart dlerror if you do not have a GPU set up on your machine.\n"
          ]
        }
      ],
      "source": [
        "# Import keras for building neural networks\n",
        "from tensorflow import keras"
      ]
    },
    {
      "cell_type": "code",
      "execution_count": null,
      "id": "377af5f4",
      "metadata": {
        "id": "377af5f4"
      },
      "outputs": [],
      "source": [
        "# Set random seeds for reproducibility\n",
        "from numpy.random import seed\n",
        "seed(1)\n",
        "from tensorflow.random import set_seed\n",
        "set_seed(2)\n"
      ]
    },
    {
      "cell_type": "code",
      "execution_count": null,
      "id": "bb3e0627",
      "metadata": {
        "id": "bb3e0627"
      },
      "outputs": [],
      "source": [
        "# Define the input layer with the shape of the feature set\n",
        "inputs = keras.Input(shape=X_train.shape[1])"
      ]
    },
    {
      "cell_type": "code",
      "execution_count": null,
      "id": "1ec67ec0",
      "metadata": {
        "collapsed": true,
        "id": "1ec67ec0",
        "outputId": "cd3ad1f6-1cc4-4c36-91f5-a99353de3c10"
      },
      "outputs": [
        {
          "name": "stderr",
          "output_type": "stream",
          "text": [
            "2022-03-24 14:53:52.998317: W tensorflow/stream_executor/platform/default/dso_loader.cc:64] Could not load dynamic library 'libcuda.so.1'; dlerror: libcuda.so.1: cannot open shared object file: No such file or directory\n",
            "2022-03-24 14:53:52.998355: W tensorflow/stream_executor/cuda/cuda_driver.cc:269] failed call to cuInit: UNKNOWN ERROR (303)\n",
            "2022-03-24 14:53:52.998390: I tensorflow/stream_executor/cuda/cuda_diagnostics.cc:156] kernel driver does not appear to be running on this host (fwc049): /proc/driver/nvidia/version does not exist\n",
            "2022-03-24 14:53:52.998691: I tensorflow/core/platform/cpu_feature_guard.cc:151] This TensorFlow binary is optimized with oneAPI Deep Neural Network Library (oneDNN) to use the following CPU instructions in performance-critical operations:  AVX2 FMA\n",
            "To enable them in other operations, rebuild TensorFlow with the appropriate compiler flags.\n"
          ]
        }
      ],
      "source": [
        "# Add a hidden layer with 10 units and ReLU activation\n",
        "hidden_layer = keras.layers.Dense(10, activation=\"relu\")(inputs)"
      ]
    },
    {
      "cell_type": "code",
      "execution_count": null,
      "id": "3007dd5a",
      "metadata": {
        "id": "3007dd5a"
      },
      "outputs": [],
      "source": [
        "# Add an output layer with 3 units (one for each species) and softmax activation\n",
        "output_layer = keras.layers.Dense(3, activation=\"softmax\")(hidden_layer)"
      ]
    },
    {
      "cell_type": "code",
      "execution_count": null,
      "id": "f363d15f",
      "metadata": {
        "colab": {
          "base_uri": "https://localhost:8080/",
          "height": 158
        },
        "collapsed": true,
        "id": "f363d15f",
        "outputId": "f4536a3a-8735-4ba0-f9de-e4effe728a51"
      },
      "outputs": [
        {
          "output_type": "error",
          "ename": "NameError",
          "evalue": "name 'keras' is not defined",
          "traceback": [
            "\u001b[0;31m---------------------------------------------------------------------------\u001b[0m",
            "\u001b[0;31mNameError\u001b[0m                                 Traceback (most recent call last)",
            "\u001b[0;32m/tmp/ipython-input-1424949559.py\u001b[0m in \u001b[0;36m<cell line: 0>\u001b[0;34m()\u001b[0m\n\u001b[0;32m----> 1\u001b[0;31m \u001b[0mmodel\u001b[0m \u001b[0;34m=\u001b[0m \u001b[0mkeras\u001b[0m\u001b[0;34m.\u001b[0m\u001b[0mModel\u001b[0m\u001b[0;34m(\u001b[0m\u001b[0minputs\u001b[0m\u001b[0;34m=\u001b[0m\u001b[0minputs\u001b[0m\u001b[0;34m,\u001b[0m \u001b[0moutputs\u001b[0m\u001b[0;34m=\u001b[0m\u001b[0moutput_layer\u001b[0m\u001b[0;34m)\u001b[0m\u001b[0;34m\u001b[0m\u001b[0;34m\u001b[0m\u001b[0m\n\u001b[0m\u001b[1;32m      2\u001b[0m \u001b[0mmodel\u001b[0m\u001b[0;34m.\u001b[0m\u001b[0msummary\u001b[0m\u001b[0;34m(\u001b[0m\u001b[0;34m)\u001b[0m\u001b[0;34m\u001b[0m\u001b[0;34m\u001b[0m\u001b[0m\n",
            "\u001b[0;31mNameError\u001b[0m: name 'keras' is not defined"
          ]
        }
      ],
      "source": [
        "# Build the model by specifying the input and output layers\n",
        "model = keras.Model(inputs=inputs, outputs=output_layer)\n",
        "\n",
        "# Display the model architecture\n",
        "model.summary()\n"
      ]
    },
    {
      "cell_type": "code",
      "execution_count": null,
      "id": "f674781f",
      "metadata": {
        "id": "f674781f"
      },
      "outputs": [],
      "source": [
        "# Compile the model with Adam optimizer and categorical crossentropy loss\n",
        "model.compile(optimizer='adam', loss=keras.losses.CategoricalCrossentropy())"
      ]
    },
    {
      "cell_type": "code",
      "execution_count": null,
      "id": "77476a6f",
      "metadata": {
        "collapsed": true,
        "id": "77476a6f",
        "outputId": "330f47cc-053d-472b-da01-d0cebadfe91e"
      },
      "outputs": [
        {
          "name": "stdout",
          "output_type": "stream",
          "text": [
            "Epoch 1/100\n",
            "9/9 [==============================] - 0s 872us/step - loss: 2847.6536\n",
            "Epoch 2/100\n",
            "9/9 [==============================] - 0s 2ms/step - loss: 2664.8521\n",
            "Epoch 3/100\n",
            "9/9 [==============================] - 0s 2ms/step - loss: 2485.5144\n",
            "Epoch 4/100\n",
            "9/9 [==============================] - 0s 1ms/step - loss: 2316.3879\n",
            "Epoch 5/100\n",
            "9/9 [==============================] - 0s 3ms/step - loss: 2152.2834\n",
            "Epoch 6/100\n",
            "9/9 [==============================] - 0s 3ms/step - loss: 1997.5701\n",
            "Epoch 7/100\n",
            "9/9 [==============================] - 0s 3ms/step - loss: 1846.1864\n",
            "Epoch 8/100\n",
            "9/9 [==============================] - 0s 4ms/step - loss: 1703.0428\n",
            "Epoch 9/100\n",
            "9/9 [==============================] - 0s 2ms/step - loss: 1564.8324\n",
            "Epoch 10/100\n",
            "9/9 [==============================] - 0s 2ms/step - loss: 1431.5043\n",
            "Epoch 11/100\n",
            "9/9 [==============================] - 0s 2ms/step - loss: 1304.5566\n",
            "Epoch 12/100\n",
            "9/9 [==============================] - 0s 3ms/step - loss: 1179.7638\n",
            "Epoch 13/100\n",
            "9/9 [==============================] - 0s 3ms/step - loss: 1061.1174\n",
            "Epoch 14/100\n",
            "9/9 [==============================] - 0s 3ms/step - loss: 942.6579\n",
            "Epoch 15/100\n",
            "9/9 [==============================] - 0s 3ms/step - loss: 826.2888\n",
            "Epoch 16/100\n",
            "9/9 [==============================] - 0s 3ms/step - loss: 713.5021\n",
            "Epoch 17/100\n",
            "9/9 [==============================] - 0s 2ms/step - loss: 600.9763\n",
            "Epoch 18/100\n",
            "9/9 [==============================] - 0s 3ms/step - loss: 488.1404\n",
            "Epoch 19/100\n",
            "9/9 [==============================] - 0s 2ms/step - loss: 377.0446\n",
            "Epoch 20/100\n",
            "9/9 [==============================] - 0s 2ms/step - loss: 298.6043\n",
            "Epoch 21/100\n",
            "9/9 [==============================] - 0s 2ms/step - loss: 238.7453\n",
            "Epoch 22/100\n",
            "9/9 [==============================] - 0s 3ms/step - loss: 185.5521\n",
            "Epoch 23/100\n",
            "9/9 [==============================] - 0s 3ms/step - loss: 132.7363\n",
            "Epoch 24/100\n",
            "9/9 [==============================] - 0s 3ms/step - loss: 81.1253\n",
            "Epoch 25/100\n",
            "9/9 [==============================] - 0s 2ms/step - loss: 31.3614\n",
            "Epoch 26/100\n",
            "9/9 [==============================] - 0s 2ms/step - loss: 23.1893\n",
            "Epoch 27/100\n",
            "9/9 [==============================] - 0s 3ms/step - loss: 22.3035\n",
            "Epoch 28/100\n",
            "9/9 [==============================] - 0s 4ms/step - loss: 18.4138\n",
            "Epoch 29/100\n",
            "9/9 [==============================] - 0s 3ms/step - loss: 17.0394\n",
            "Epoch 30/100\n",
            "9/9 [==============================] - 0s 3ms/step - loss: 15.9997\n",
            "Epoch 31/100\n",
            "9/9 [==============================] - 0s 4ms/step - loss: 16.2675\n",
            "Epoch 32/100\n",
            "9/9 [==============================] - 0s 4ms/step - loss: 15.7421\n",
            "Epoch 33/100\n",
            "9/9 [==============================] - 0s 2ms/step - loss: 16.0344\n",
            "Epoch 34/100\n",
            "9/9 [==============================] - 0s 2ms/step - loss: 16.1875\n",
            "Epoch 35/100\n",
            "9/9 [==============================] - 0s 3ms/step - loss: 15.4760\n",
            "Epoch 36/100\n",
            "9/9 [==============================] - 0s 3ms/step - loss: 14.9631\n",
            "Epoch 37/100\n",
            "9/9 [==============================] - 0s 3ms/step - loss: 14.3017\n",
            "Epoch 38/100\n",
            "9/9 [==============================] - 0s 3ms/step - loss: 14.0513\n",
            "Epoch 39/100\n",
            "9/9 [==============================] - 0s 3ms/step - loss: 13.0636\n",
            "Epoch 40/100\n",
            "9/9 [==============================] - 0s 3ms/step - loss: 12.1267\n",
            "Epoch 41/100\n",
            "9/9 [==============================] - 0s 3ms/step - loss: 10.2604\n",
            "Epoch 42/100\n",
            "9/9 [==============================] - 0s 4ms/step - loss: 9.0990\n",
            "Epoch 43/100\n",
            "9/9 [==============================] - 0s 3ms/step - loss: 8.7860\n",
            "Epoch 44/100\n",
            "9/9 [==============================] - 0s 3ms/step - loss: 8.5099\n",
            "Epoch 45/100\n",
            "9/9 [==============================] - 0s 4ms/step - loss: 8.1563\n",
            "Epoch 46/100\n",
            "9/9 [==============================] - 0s 3ms/step - loss: 8.6995\n",
            "Epoch 47/100\n",
            "9/9 [==============================] - 0s 3ms/step - loss: 8.3757\n",
            "Epoch 48/100\n",
            "9/9 [==============================] - 0s 3ms/step - loss: 8.0318\n",
            "Epoch 49/100\n",
            "9/9 [==============================] - 0s 3ms/step - loss: 8.9892\n",
            "Epoch 50/100\n",
            "9/9 [==============================] - 0s 2ms/step - loss: 8.0025\n",
            "Epoch 51/100\n",
            "9/9 [==============================] - 0s 3ms/step - loss: 7.4865\n",
            "Epoch 52/100\n",
            "9/9 [==============================] - 0s 3ms/step - loss: 7.1724\n",
            "Epoch 53/100\n",
            "9/9 [==============================] - 0s 3ms/step - loss: 7.0795\n",
            "Epoch 54/100\n",
            "9/9 [==============================] - 0s 3ms/step - loss: 6.7947\n",
            "Epoch 55/100\n",
            "9/9 [==============================] - 0s 4ms/step - loss: 6.6179\n",
            "Epoch 56/100\n",
            "9/9 [==============================] - 0s 3ms/step - loss: 6.5754\n",
            "Epoch 57/100\n",
            "9/9 [==============================] - 0s 3ms/step - loss: 6.4595\n",
            "Epoch 58/100\n",
            "9/9 [==============================] - 0s 3ms/step - loss: 6.2435\n",
            "Epoch 59/100\n",
            "9/9 [==============================] - 0s 2ms/step - loss: 6.0334\n",
            "Epoch 60/100\n",
            "9/9 [==============================] - 0s 2ms/step - loss: 5.9066\n",
            "Epoch 61/100\n",
            "9/9 [==============================] - 0s 1ms/step - loss: 5.9930\n",
            "Epoch 62/100\n",
            "9/9 [==============================] - 0s 2ms/step - loss: 5.9415\n",
            "Epoch 63/100\n",
            "9/9 [==============================] - 0s 1ms/step - loss: 5.7847\n",
            "Epoch 64/100\n",
            "9/9 [==============================] - 0s 1ms/step - loss: 5.4827\n",
            "Epoch 65/100\n",
            "9/9 [==============================] - 0s 1ms/step - loss: 5.0645\n",
            "Epoch 66/100\n",
            "9/9 [==============================] - 0s 1ms/step - loss: 4.9839\n",
            "Epoch 67/100\n",
            "9/9 [==============================] - 0s 2ms/step - loss: 5.2840\n",
            "Epoch 68/100\n",
            "9/9 [==============================] - 0s 1ms/step - loss: 5.4751\n",
            "Epoch 69/100\n",
            "9/9 [==============================] - 0s 2ms/step - loss: 4.7776\n",
            "Epoch 70/100\n",
            "9/9 [==============================] - 0s 1ms/step - loss: 4.4692\n",
            "Epoch 71/100\n",
            "9/9 [==============================] - 0s 1ms/step - loss: 4.2759\n",
            "Epoch 72/100\n",
            "9/9 [==============================] - 0s 1ms/step - loss: 4.3674\n",
            "Epoch 73/100\n",
            "9/9 [==============================] - 0s 1ms/step - loss: 5.3923\n",
            "Epoch 74/100\n",
            "9/9 [==============================] - 0s 1ms/step - loss: 4.7771\n",
            "Epoch 75/100\n",
            "9/9 [==============================] - 0s 2ms/step - loss: 3.9144\n",
            "Epoch 76/100\n",
            "9/9 [==============================] - 0s 2ms/step - loss: 3.9461\n",
            "Epoch 77/100\n",
            "9/9 [==============================] - 0s 1ms/step - loss: 3.4951\n",
            "Epoch 78/100\n",
            "9/9 [==============================] - 0s 1ms/step - loss: 3.4694\n",
            "Epoch 79/100\n",
            "9/9 [==============================] - 0s 2ms/step - loss: 3.4618\n",
            "Epoch 80/100\n",
            "9/9 [==============================] - 0s 2ms/step - loss: 4.2527\n",
            "Epoch 81/100\n",
            "9/9 [==============================] - 0s 2ms/step - loss: 3.1782\n",
            "Epoch 82/100\n",
            "9/9 [==============================] - 0s 2ms/step - loss: 3.0765\n",
            "Epoch 83/100\n",
            "9/9 [==============================] - 0s 1ms/step - loss: 3.0375\n",
            "Epoch 84/100\n",
            "9/9 [==============================] - 0s 2ms/step - loss: 3.1666\n",
            "Epoch 85/100\n",
            "9/9 [==============================] - 0s 2ms/step - loss: 2.9538\n",
            "Epoch 86/100\n",
            "9/9 [==============================] - 0s 2ms/step - loss: 2.8135\n",
            "Epoch 87/100\n",
            "9/9 [==============================] - 0s 2ms/step - loss: 2.6634\n",
            "Epoch 88/100\n",
            "9/9 [==============================] - 0s 2ms/step - loss: 2.4222\n",
            "Epoch 89/100\n",
            "9/9 [==============================] - 0s 2ms/step - loss: 2.3003\n",
            "Epoch 90/100\n",
            "9/9 [==============================] - 0s 2ms/step - loss: 2.2793\n",
            "Epoch 91/100\n",
            "9/9 [==============================] - 0s 2ms/step - loss: 2.1204\n",
            "Epoch 92/100\n",
            "9/9 [==============================] - 0s 2ms/step - loss: 2.3010\n",
            "Epoch 93/100\n",
            "9/9 [==============================] - 0s 1ms/step - loss: 2.7549\n",
            "Epoch 94/100\n",
            "9/9 [==============================] - 0s 2ms/step - loss: 2.8658\n",
            "Epoch 95/100\n",
            "9/9 [==============================] - 0s 2ms/step - loss: 1.9439\n",
            "Epoch 96/100\n",
            "9/9 [==============================] - 0s 2ms/step - loss: 1.7902\n",
            "Epoch 97/100\n",
            "9/9 [==============================] - 0s 2ms/step - loss: 1.7772\n",
            "Epoch 98/100\n",
            "9/9 [==============================] - 0s 2ms/step - loss: 2.0179\n",
            "Epoch 99/100\n",
            "9/9 [==============================] - 0s 2ms/step - loss: 1.9467\n",
            "Epoch 100/100\n",
            "9/9 [==============================] - 0s 2ms/step - loss: 1.5531\n"
          ]
        }
      ],
      "source": [
        "# Train the model on the training set for 100 epochs\n",
        "history = model.fit(X_train, y_train, epochs=100)"
      ]
    },
    {
      "cell_type": "code",
      "execution_count": null,
      "id": "1e217306",
      "metadata": {
        "collapsed": true,
        "id": "1e217306",
        "outputId": "860f4483-95f2-4f98-da13-67c190a4abcb"
      },
      "outputs": [
        {
          "data": {
            "text/plain": [
              "<AxesSubplot:>"
            ]
          },
          "execution_count": 19,
          "metadata": {},
          "output_type": "execute_result"
        },
        {
          "data": {
            "image/png": "[encoded data removed]",
            "text/plain": [
              "<Figure size 432x288 with 1 Axes>"
            ]
          },
          "metadata": {
            "needs_background": "light"
          },
          "output_type": "display_data"
        }
      ],
      "source": [
        "# Plot the training loss over epochs\n",
        "sns.lineplot(x=history.epoch, y=history.history['loss'])"
      ]
    },
    {
      "cell_type": "code",
      "execution_count": null,
      "id": "028368d5",
      "metadata": {
        "collapsed": true,
        "id": "028368d5",
        "outputId": "48177d07-0c57-43d0-f4c7-5456127fa607"
      },
      "outputs": [
        {
          "data": {
            "text/html": [
              "<div>\n",
              "<style scoped>\n",
              "    .dataframe tbody tr th:only-of-type {\n",
              "        vertical-align: middle;\n",
              "    }\n",
              "\n",
              "    .dataframe tbody tr th {\n",
              "        vertical-align: top;\n",
              "    }\n",
              "\n",
              "    .dataframe thead th {\n",
              "        text-align: right;\n",
              "    }\n",
              "</style>\n",
              "<table border=\"1\" class=\"dataframe\">\n",
              "  <thead>\n",
              "    <tr style=\"text-align: right;\">\n",
              "      <th></th>\n",
              "      <th>Adelie</th>\n",
              "      <th>Chinstrap</th>\n",
              "      <th>Gentoo</th>\n",
              "    </tr>\n",
              "  </thead>\n",
              "  <tbody>\n",
              "    <tr>\n",
              "      <th>0</th>\n",
              "      <td>0.999959</td>\n",
              "      <td>3.145384e-08</td>\n",
              "      <td>0.000041</td>\n",
              "    </tr>\n",
              "    <tr>\n",
              "      <th>1</th>\n",
              "      <td>0.983229</td>\n",
              "      <td>2.182941e-03</td>\n",
              "      <td>0.014589</td>\n",
              "    </tr>\n",
              "    <tr>\n",
              "      <th>2</th>\n",
              "      <td>0.999927</td>\n",
              "      <td>1.489848e-06</td>\n",
              "      <td>0.000072</td>\n",
              "    </tr>\n",
              "    <tr>\n",
              "      <th>3</th>\n",
              "      <td>0.035936</td>\n",
              "      <td>2.511022e-04</td>\n",
              "      <td>0.963813</td>\n",
              "    </tr>\n",
              "    <tr>\n",
              "      <th>4</th>\n",
              "      <td>0.953155</td>\n",
              "      <td>2.092342e-02</td>\n",
              "      <td>0.025921</td>\n",
              "    </tr>\n",
              "    <tr>\n",
              "      <th>...</th>\n",
              "      <td>...</td>\n",
              "      <td>...</td>\n",
              "      <td>...</td>\n",
              "    </tr>\n",
              "    <tr>\n",
              "      <th>64</th>\n",
              "      <td>0.001576</td>\n",
              "      <td>9.657354e-01</td>\n",
              "      <td>0.032689</td>\n",
              "    </tr>\n",
              "    <tr>\n",
              "      <th>65</th>\n",
              "      <td>0.043844</td>\n",
              "      <td>7.111577e-01</td>\n",
              "      <td>0.244998</td>\n",
              "    </tr>\n",
              "    <tr>\n",
              "      <th>66</th>\n",
              "      <td>0.153391</td>\n",
              "      <td>7.815813e-01</td>\n",
              "      <td>0.065027</td>\n",
              "    </tr>\n",
              "    <tr>\n",
              "      <th>67</th>\n",
              "      <td>0.491370</td>\n",
              "      <td>3.551965e-05</td>\n",
              "      <td>0.508595</td>\n",
              "    </tr>\n",
              "    <tr>\n",
              "      <th>68</th>\n",
              "      <td>0.959009</td>\n",
              "      <td>2.281378e-08</td>\n",
              "      <td>0.040991</td>\n",
              "    </tr>\n",
              "  </tbody>\n",
              "</table>\n",
              "<p>69 rows × 3 columns</p>\n",
              "</div>"
            ],
            "text/plain": [
              "      Adelie     Chinstrap    Gentoo\n",
              "0   0.999959  3.145384e-08  0.000041\n",
              "1   0.983229  2.182941e-03  0.014589\n",
              "2   0.999927  1.489848e-06  0.000072\n",
              "3   0.035936  2.511022e-04  0.963813\n",
              "4   0.953155  2.092342e-02  0.025921\n",
              "..       ...           ...       ...\n",
              "64  0.001576  9.657354e-01  0.032689\n",
              "65  0.043844  7.111577e-01  0.244998\n",
              "66  0.153391  7.815813e-01  0.065027\n",
              "67  0.491370  3.551965e-05  0.508595\n",
              "68  0.959009  2.281378e-08  0.040991\n",
              "\n",
              "[69 rows x 3 columns]"
            ]
          },
          "execution_count": 20,
          "metadata": {},
          "output_type": "execute_result"
        }
      ],
      "source": [
        "# Make predictions on the test set\n",
        "y_pred = model.predict(X_test)\n",
        "\n",
        "# Convert predictions to a DataFrame for easier analysis\n",
        "prediction = pd.DataFrame(y_pred, columns=target.columns)\n",
        "prediction\n"
      ]
    },
    {
      "cell_type": "code",
      "execution_count": null,
      "id": "a0711b36",
      "metadata": {
        "collapsed": true,
        "id": "a0711b36",
        "outputId": "53803fcf-7943-4fdb-fdd2-9f188784a48e"
      },
      "outputs": [
        {
          "data": {
            "text/plain": [
              "0        Adelie\n",
              "1        Adelie\n",
              "2        Adelie\n",
              "3        Gentoo\n",
              "4        Adelie\n",
              "        ...    \n",
              "64    Chinstrap\n",
              "65    Chinstrap\n",
              "66    Chinstrap\n",
              "67       Gentoo\n",
              "68       Adelie\n",
              "Length: 69, dtype: object"
            ]
          },
          "execution_count": 21,
          "metadata": {},
          "output_type": "execute_result"
        }
      ],
      "source": [
        "# Get the species with the highest predicted probability for each observation\n",
        "predicted_species = prediction.idxmax(axis=\"columns\")\n",
        "predicted_species\n"
      ]
    },
    {
      "cell_type": "code",
      "execution_count": null,
      "id": "4043d11b",
      "metadata": {
        "collapsed": true,
        "id": "4043d11b",
        "outputId": "6a186887-19bf-400b-aed7-bd16ce69532f"
      },
      "outputs": [
        {
          "name": "stdout",
          "output_type": "stream",
          "text": [
            "[[16 14  0]\n",
            " [ 6  6  2]\n",
            " [12  0 13]]\n"
          ]
        }
      ],
      "source": [
        "# Import confusion_matrix to evaluate model performance\n",
        "from sklearn.metrics import confusion_matrix\n",
        "\n",
        "# Get the true species labels for the test set\n",
        "true_species = y_test.idxmax(axis=\"columns\")\n",
        "\n",
        "# Compute the confusion matrix\n",
        "matrix = confusion_matrix(true_species, predicted_species)\n",
        "print(matrix)\n"
      ]
    },
    {
      "cell_type": "code",
      "execution_count": null,
      "id": "52ff1785",
      "metadata": {
        "id": "52ff1785"
      },
      "outputs": [],
      "source": [
        "# Convert to a pandas dataframe\n",
        "confusion_df = pd.DataFrame(matrix, index=y_test.columns.values, columns=y_test.columns.values)\n",
        "\n",
        "# Set the names of the x and y axis, this helps with the readability of the heatmap.\n",
        "confusion_df.index.name = 'True Label'\n",
        "confusion_df.columns.name = 'Predicted Label'\n"
      ]
    },
    {
      "cell_type": "code",
      "execution_count": null,
      "id": "72fd46b0",
      "metadata": {
        "collapsed": true,
        "id": "72fd46b0",
        "outputId": "2d50bfbc-f96a-4c43-ba7a-e2328bdb96d5"
      },
      "outputs": [
        {
          "data": {
            "text/plain": [
              "<AxesSubplot:xlabel='Predicted Label', ylabel='True Label'>"
            ]
          },
          "execution_count": 24,
          "metadata": {},
          "output_type": "execute_result"
        },
        {
          "data": {
            "image/png": "[encoded data removed]",
            "text/plain": [
              "<Figure size 432x288 with 2 Axes>"
            ]
          },
          "metadata": {
            "needs_background": "light"
          },
          "output_type": "display_data"
        }
      ],
      "source": [
        "# Visualize the confusion matrix as a heatmap\n",
        "sns.heatmap(confusion_df, annot=True)"
      ]
    },
    {
      "cell_type": "code",
      "execution_count": null,
      "id": "4828129f",
      "metadata": {
        "id": "4828129f"
      },
      "outputs": [],
      "source": []
    }
  ],
  "metadata": {
    "kernelspec": {
      "display_name": "Python 3 (ipykernel)",
      "language": "python",
      "name": "python3"
    },
    "language_info": {
      "codemirror_mode": {
        "name": "ipython",
        "version": 3
      },
      "file_extension": ".py",
      "mimetype": "text/x-python",
      "name": "python",
      "nbconvert_exporter": "python",
      "pygments_lexer": "ipython3",
      "version": "3.10.2"
    },
    "colab": {
      "provenance": [],
      "include_colab_link": true
    }
  },
  "nbformat": 4,
  "nbformat_minor": 5
}